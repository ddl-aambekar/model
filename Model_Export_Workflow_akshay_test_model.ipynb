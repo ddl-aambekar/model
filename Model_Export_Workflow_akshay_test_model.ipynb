{
 "cells": [
  {
   "cell_type": "markdown",
   "metadata": {},
   "source": [
    "# Model Export Workflow"
   ]
  },
  {
   "cell_type": "markdown",
   "metadata": {},
   "source": [
    "This notebook provides the curl commands necessary to use the Domino API to build and export a model to an external registry. You can either run the commands in a terminal or run them in these cells by putting a ! in front of each command. Make sure to replace YOUR_DOMINO_APP_PATH in each command with your Domino url and to replace other key elements of the calls with the appropriate IDs and names to fit your project and model.\n",
    "\n",
    "Created By: Samit Thange and Tayler Sale (3-26-2020)\n",
    "\n",
    "Questions?: Please email Tayler at tayler.sale@dominodatalab.com"
   ]
  },
  {
   "cell_type": "markdown",
   "metadata": {},
   "source": [
    "### Get OwnerID"
   ]
  },
  {
   "cell_type": "code",
   "execution_count": 4,
   "metadata": {},
   "outputs": [
    {
     "name": "stdout",
     "output_type": "stream",
     "text": [
      "{\"message\":\"Not authorized: No current user in request\"}"
     ]
    }
   ],
   "source": [
    "!curl --location --request GET 'https://staging.domino.tech/v4/users/self' \\\n",
    "--header 'Content-Type: application/json' \\\n",
    "--header 'X-Domino-Api-Key: 14638d0d9787faa846073fb0569a2e384d7ebba67bc7205e8b97a9f94fce3a9f' \\\n",
    "--data-raw ''"
   ]
  },
  {
   "cell_type": "markdown",
   "metadata": {},
   "source": [
    "### Get ProjectID"
   ]
  },
  {
   "cell_type": "code",
   "execution_count": 2,
   "metadata": {},
   "outputs": [
    {
     "name": "stdout",
     "output_type": "stream",
     "text": [
      "[{\"id\":\"5e8fc442e0125700062fd2de\",\"name\":\"model-export-demo\",\"description\":\"\",\"visibility\":\"Private\",\"ownerId\":\"5d716a5fe09329f0f8e4dda9\",\"ownerUsername\":\"akshay_ambekar\",\"collaboratorIds\":[],\"collaborators\":[],\"tags\":[],\"stageId\":\"5d5230de51513f9d9792c32a\",\"stageName\":\"Ideation\",\"status\":\"active\",\"isBlocked\":false,\"stageUpdateTimeInMillis\":1586480197409,\"statusUpdateTimeInMillis\":1586480197409}]"
     ]
    }
   ],
   "source": [
    "!curl --location --request GET 'https://staging.domino.tech/v4/projects?name=model-export-demo&ownerId=5d716a5fe09329f0f8e4dda9' \\\n",
    "--header 'Content-Type: application/json' \\\n",
    "--header 'X-Domino-Api-Key: 14638d0d9787faa846073fb0569a2e384d7ebba67bc7205e8b97a9f94fce3a9f' \\\n",
    "--data-raw ''"
   ]
  },
  {
   "cell_type": "markdown",
   "metadata": {},
   "source": [
    "### Get EnvironmentID"
   ]
  },
  {
   "cell_type": "code",
   "execution_count": 3,
   "metadata": {},
   "outputs": [
    {
     "name": "stdout",
     "output_type": "stream",
     "text": [
      "{\"objectType\":\"list\",\"data\":[{\"id\":\"5d5491b44821d300067c989b\",\"name\":\"Austin's Working Environment\",\"visibility\":\"Private\"},{\"id\":\"5d55fc882361a1000648f564\",\"name\":\"4.0 Base py3.6\",\"visibility\":\"Private\"},{\"id\":\"5d571f131232cf000772a271\",\"name\":\"jupyter_terminal\",\"visibility\":\"Private\"},{\"id\":\"5d5c82ecd616710007673bc0\",\"name\":\"Dave's test env\",\"visibility\":\"Private\"},{\"id\":\"5d5de33b5db5390006988d54\",\"name\":\"this one works - bokeh\",\"visibility\":\"Private\"},{\"id\":\"5d5e78b64180c400064f8a18\",\"name\":\"React-App-Test\",\"visibility\":\"Private\"},{\"id\":\"5d5eeb1a4180c400064f8ca1\",\"name\":\"DAD 20190809\",\"visibility\":\"Private\"},{\"id\":\"5d5f18db6a6a3500063d883a\",\"name\":\"Test-default-behaviour\",\"visibility\":\"Private\"},{\"id\":\"5d6475a69af1a50006429793\",\"name\":\"Test Env\",\"visibility\":\"Private\"},{\"id\":\"5d6533c8b1e66600066a5198\",\"name\":\"Avinash Env\",\"visibility\":\"Private\"},{\"id\":\"5d65a8565c42380006086732\",\"name\":\"SAS Analytics for Containers 9.4\",\"visibility\":\"Private\"},{\"id\":\"5d661ec9756a7a00064f042a\",\"name\":\"Env to Fail Workspace\",\"visibility\":\"Private\"},{\"id\":\"5d664b66756a7a00064f06f5\",\"name\":\"spark-env-1\",\"visibility\":\"Private\"},{\"id\":\"5d664e48756a7a00064f0706\",\"name\":\"avinash-blank\",\"visibility\":\"Private\"},{\"id\":\"5d6960392dcb03000652618b\",\"name\":\"Austin's Duplicate of this one works\",\"visibility\":\"Private\"},{\"id\":\"5d6aeb626057e00006b21623\",\"name\":\"Test Environment Build Logs\",\"visibility\":\"Private\"},{\"id\":\"5d6e8e2993dfb100063d6e42\",\"name\":\"Beakerx\",\"visibility\":\"Private\"},{\"id\":\"5d6ed0a1c52a550007f5d0ab\",\"name\":\"Georgi Test\",\"visibility\":\"Private\"},{\"id\":\"5d6f7175eb36370007197776\",\"name\":\"Vivek Duplicate of this one works\",\"visibility\":\"Private\"},{\"id\":\"5d6f7216eb363700071977c6\",\"name\":\"Duplicate of Vivek Duplicate of this one works\",\"visibility\":\"Private\"},{\"id\":\"5d6f884feb36370007198031\",\"name\":\"jlskjdlskdj\",\"visibility\":\"Private\"},{\"id\":\"5d6fa0b8eb3637000719815e\",\"name\":\"Duplicate of Vivek Duplicate of this one works\",\"visibility\":\"Private\"},{\"id\":\"5d6fa0d5eb36370007198160\",\"name\":\"Duplicate of Vivek Duplicate of this one works\",\"visibility\":\"Private\"},{\"id\":\"5d716cc0bcbcb400065980a8\",\"name\":\"Duplicate of Domino Analytics Distribution Py3.6 R3.5\",\"visibility\":\"Private\"},{\"id\":\"5d719e22986d6e0007ada28a\",\"name\":\"Duplicate of this one works\",\"visibility\":\"Private\"},{\"id\":\"5d719e3a986d6e0007ada28c\",\"name\":\"Duplicate of this one works\",\"visibility\":\"Private\"},{\"id\":\"5d71ba1a9f70bc00073dd6af\",\"name\":\"Duplicate of this one works\",\"visibility\":\"Private\"},{\"id\":\"5d71bb889f70bc00073dd6e7\",\"name\":\"Duplicate of this one works\",\"visibility\":\"Private\"},{\"id\":\"5d75f41753f5460007a531cb\",\"name\":\"test_app_env_abhinav\",\"visibility\":\"Private\"},{\"id\":\"5d795c5d0e9b7a0006872636\",\"name\":\"Ubuntu18_DAD_Py3.6_R3.6_20190911\",\"visibility\":\"Private\"},{\"id\":\"5d7abf2715f3690007f23081\",\"name\":\"Domino Analytics Distribution py3.6 R3.6-quay\",\"visibility\":\"Global\"},{\"id\":\"5d7ac7f315f3690007f2319d\",\"name\":\"VSCode Debuggin\",\"visibility\":\"Private\"},{\"id\":\"5d7acbe360318d0006d02af7\",\"name\":\"DAD py3.6 R3.6-NO_Pluggables\",\"visibility\":\"Global\"},{\"id\":\"5d814a25d80d4f0007a6bb26\",\"name\":\"broken\",\"visibility\":\"Private\"},{\"id\":\"5d814b2639c8d5000670f93c\",\"name\":\"old_base\",\"visibility\":\"Private\"},{\"id\":\"5d814f6ad80d4f0007a6bba5\",\"name\":\"georgi_broken\",\"visibility\":\"Private\"},{\"id\":\"5d81542a39c8d5000670f9f7\",\"name\":\"Duplicate of DAD py3.6 R3.6-NO_Pluggables\",\"visibility\":\"Private\"},{\"id\":\"5d82ba9366135f0006b28c1d\",\"name\":\"SAS Analytics for Containers 9.4\",\"visibility\":\"Private\"},{\"id\":\"5d82cfd711b6b60006fd3e04\",\"name\":\"GPU from Sujay - see DOM-15851\",\"visibility\":\"Private\"},{\"id\":\"5d85590c4e0d8b0007d825dc\",\"name\":\"Duplicate of Katie's Test Environment\",\"visibility\":\"Private\"},{\"id\":\"5d857294bd95f20006be5d66\",\"name\":\"SAS Analytics for Containers 9.4\",\"visibility\":\"Global\"},{\"id\":\"5d88e61bb297c30006384e12\",\"name\":\"Duplicate of Robin's SAS Analytics for Containers 9.4\",\"visibility\":\"Private\"},{\"id\":\"5d8e41fac3634f0006c706f5\",\"name\":\"Test VPN\",\"visibility\":\"Private\"},{\"id\":\"5d953f55b096b30006a41f93\",\"name\":\"tsale-Duplicate of Domino Analytics Distribution py3.6 R3.6-quay\",\"visibility\":\"Private\"},{\"id\":\"5d96845edefef300066bdb08\",\"name\":\"DAD w/post-run script\",\"visibility\":\"Private\"},{\"id\":\"5d97b150defef300066c12fb\",\"name\":\"Old image from Try\",\"visibility\":\"Private\"},{\"id\":\"5d97b1f8a34f350006f2dbeb\",\"name\":\"Duplicate of Domino Analytics Distribution py3.6 R3.6-quay\",\"visibility\":\"Private\"},{\"id\":\"5d9d27b624560c00060b5c83\",\"name\":\"Po SAS Analytics for Containers 9.4\",\"visibility\":\"Private\"},{\"id\":\"5d9de9e08b01630006322a62\",\"name\":\"new\",\"visibility\":\"Private\"},{\"id\":\"5da0184c40f75900060ee7e4\",\"name\":\"delete me!\",\"visibility\":\"Private\"},{\"id\":\"5da4e749c914e70006728610\",\"name\":\"Domino Tutorial\",\"visibility\":\"Private\"},{\"id\":\"5da50d22ae04070006a3281f\",\"name\":\"Build-dockerfile\",\"visibility\":\"Private\"},{\"id\":\"5da7758f21d7810006ba6528\",\"name\":\"cool env\",\"visibility\":\"Private\"},{\"id\":\"5da852841506760006cc5bb9\",\"name\":\"GPU-testing\",\"visibility\":\"Private\"},{\"id\":\"5dadc1e7726fa400069ae57e\",\"name\":\"tensorflow-env\",\"visibility\":\"Private\"},{\"id\":\"5db0fe998cefb40006d3c652\",\"name\":\"Polynote\",\"visibility\":\"Private\"},{\"id\":\"5db12042538e2300068e27a3\",\"name\":\"polynote-min\",\"visibility\":\"Private\"},{\"id\":\"5dbb623cdefac10006772ebc\",\"name\":\"Duplicate of DAD py3.6 R3.6-NO_Pluggables\",\"visibility\":\"Private\"},{\"id\":\"5dc1b88fc46375000645775f\",\"name\":\"DOM-17707 CE\",\"visibility\":\"Private\"},{\"id\":\"5dc1f69ace3bed0006c2da8b\",\"name\":\"post-run-sleep\",\"visibility\":\"Private\"},{\"id\":\"5dc31ecfce3bed0006c2e259\",\"name\":\"Igor's PySpark Test Domino Analytics Distribution py3.6 R3.6-quay\",\"visibility\":\"Private\"},{\"id\":\"5dcbcb8a7098a000064a61cc\",\"name\":\"python 2.7 Env\",\"visibility\":\"Private\"},{\"id\":\"5dce5178aee06b00067784da\",\"name\":\"Duplicate of spark-sample-ENV-Abhinav\",\"visibility\":\"Private\"},{\"id\":\"5ddf08f9f31dc30006a90764\",\"name\":\"Georgi-test-env\",\"visibility\":\"Private\"},{\"id\":\"5de4b14c6605b60006188c22\",\"name\":\"zipline\",\"visibility\":\"Private\"},{\"id\":\"5de549f23113400006e8fa85\",\"name\":\"Spark testing\",\"visibility\":\"Private\"},{\"id\":\"5de54e5c59866300063b48c6\",\"name\":\"Movie_Training\",\"visibility\":\"Private\"},{\"id\":\"5de7e6475a896b0006d0c5e8\",\"name\":\"Polynote - AL\",\"visibility\":\"Private\"},{\"id\":\"5df16f3807723400069d5313\",\"name\":\"Prerun script test\",\"visibility\":\"Private\"},{\"id\":\"5df2b6015b477e000658e91a\",\"name\":\"Ubuntu16\",\"visibility\":\"Private\"},{\"id\":\"5df2f73981479000072fdf85\",\"name\":\"Domino Analytics Distribution py3.6 R3.5-20190501\",\"visibility\":\"Global\"},{\"id\":\"5df3c7cea29d490006c08bbf\",\"name\":\"system-tests-9CEF24-system-tests-A761F4-test_environments_v4_api\",\"visibility\":\"Private\"},{\"id\":\"5df3c8e3a29d490006c08c38\",\"name\":\"system-tests-BD0B9C-system-tests-C78A82-test_domino_defaults_and_post_run\",\"visibility\":\"Private\"},{\"id\":\"5df94e63be367b00068b3e47\",\"name\":\"No-site\",\"visibility\":\"Private\"},{\"id\":\"5dfc15b68ec8260006a0bd6d\",\"name\":\"dans 4.0 Base py3.6\",\"visibility\":\"Private\"},{\"id\":\"5e0e8a292680d6000778caa6\",\"name\":\"Updated H2o pluggable\",\"visibility\":\"Private\"},{\"id\":\"5e13781d2a96ed000682d4b2\",\"name\":\"mark no subdomains\",\"visibility\":\"Private\"},{\"id\":\"5e15012f622c4800062a5d85\",\"name\":\"Marriot Spark\",\"visibility\":\"Private\"},{\"id\":\"5e1564bfc6411b0006f24e1f\",\"name\":\"201_test\",\"visibility\":\"Private\"},{\"id\":\"5e1e3b4ea79559000631c3aa\",\"name\":\"system-tests-5F88D8-system-tests-92CA44-test_environments_v4_api\",\"visibility\":\"Private\"},{\"id\":\"5e1e43dec3a6520006bfe171\",\"name\":\"system-tests-DB03FC-system-tests-0C5ECA-test_environments_v4_api\",\"visibility\":\"Private\"},{\"id\":\"5e1e44d8c3a6520006bfe1a8\",\"name\":\"system-tests-6E72B3-system-tests-53D968-test_domino_defaults_and_post_run\",\"visibility\":\"Private\"},{\"id\":\"5e209a41a45c9f0006099363\",\"name\":\"env-error-test\",\"visibility\":\"Private\"},{\"id\":\"5e22594874f94100069b910d\",\"name\":\"New VSCode test\",\"visibility\":\"Private\"},{\"id\":\"5e27534974f94100069b92e7\",\"name\":\"system-tests-B0AE3F-system-tests-767ABB-test_environments_v4_api\",\"visibility\":\"Private\"},{\"id\":\"5e27543a74f94100069b931c\",\"name\":\"system-tests-3FB01F-system-tests-F22149-test_domino_defaults_and_post_run\",\"visibility\":\"Private\"},{\"id\":\"5e29d87574f94100069b96ed\",\"name\":\"AWS CLI TEST\",\"visibility\":\"Private\"},{\"id\":\"5e2b505874f94100069b9872\",\"name\":\"Ray2\",\"visibility\":\"Private\"},{\"id\":\"5e2f31b6f474850006715676\",\"name\":\"Duplicate of system-tests-BD0B9C-system-tests-C78A82-test_domino_defaults_and_post_run !@#$%^&*()_+-=~`{}[]|\\\\:\\\";'<>,.?/ what if the environment name is quite long\",\"visibility\":\"Private\"},{\"id\":\"5e33099d7cdf460007b88ad6\",\"name\":\"DMD\",\"visibility\":\"Private\"},{\"id\":\"5e38aadb7cdf460007b88e4b\",\"name\":\"system-tests-3D3923-system-tests-16852B-test_environments_v4_api\",\"visibility\":\"Private\"},{\"id\":\"5e38aef07cdf460007b88eee\",\"name\":\"system-tests-CE9501-system-tests-2CE133-test_domino_defaults_and_post_run\",\"visibility\":\"Private\"},{\"id\":\"5e39d68cf4191d000659d92a\",\"name\":\"JupyterDownloadFix -- Duplicate of Domino Analytics Distribution py3.6 R3.6-quay\",\"visibility\":\"Private\"},{\"id\":\"5e40bb99c1fb6a000675e7c6\",\"name\":\"Jupyter-lab-html-extension\",\"visibility\":\"Private\"},{\"id\":\"5e42036cf7e1260006076455\",\"name\":\"system-tests-5FCB54-system-tests-573CA3-test_domino_defaults_and_post_run\",\"visibility\":\"Private\"},{\"id\":\"5e4205b95d40ce0006b74b11\",\"name\":\"system-tests-78DEC0-system-tests-A6EBD4-test_environments_v4_api\",\"visibility\":\"Private\"},{\"id\":\"5e4235cb5d40ce0006b74d97\",\"name\":\"system-tests-A257B1-system-tests-32665B-test_domino_defaults_and_post_run\",\"visibility\":\"Private\"},{\"id\":\"5e45f9831f39b30007982849\",\"name\":\"DAD Py3.6 R3.6 2020 Q1\",\"visibility\":\"Private\"},{\"id\":\"5e471fd751fd000006d55c39\",\"name\":\"DAD_2019_q4\",\"visibility\":\"Private\"},{\"id\":\"5e4b1b34cf73b30006a10ebc\",\"name\":\"Nvidia Rapids\",\"visibility\":\"Private\"},{\"id\":\"5e540e79986ef200069ff240\",\"name\":\"system-tests-D58D91-system-tests-CDFE76-test_environments_v4_api\",\"visibility\":\"Private\"},{\"id\":\"5e540f7186d5eb00063743ac\",\"name\":\"system-tests-F24D11-system-tests-B4E7F7-test_domino_defaults_and_post_run\",\"visibility\":\"Private\"},{\"id\":\"5e546b68763b2700061e8177\",\"name\":\"system-tests-019E1B-system-tests-1D1B95-test_environments_v4_api\",\"visibility\":\"Private\"},{\"id\":\"5e546c59d9e64f00073d14bf\",\"name\":\"system-tests-4BAB53-system-tests-11C25A-test_domino_defaults_and_post_run\",\"visibility\":\"Private\"},{\"id\":\"5e546e95d9e64f00073d1577\",\"name\":\"DAD Py3.7 R3.6 2020 Q1\",\"visibility\":\"Private\"},{\"id\":\"5e5575bb763b2700061e8762\",\"name\":\"system-tests-C5865C-system-tests-DFD339-test_environments_v4_api\",\"visibility\":\"Private\"},{\"id\":\"5e5576ac763b2700061e87a4\",\"name\":\"system-tests-D23E87-system-tests-86798B-test_domino_defaults_and_post_run\",\"visibility\":\"Private\"},{\"id\":\"5e5604cbd9e64f00073d1c6e\",\"name\":\"deepfakes\",\"visibility\":\"Private\"},{\"id\":\"5e5696db763b2700061e8a3f\",\"name\":\"Duplicate of Domino Analytics Distribution py3.6 R3.6-quay\",\"visibility\":\"Private\"},{\"id\":\"5e5d508e763b2700061e8cc8\",\"name\":\"53742_app-inside-jupyterlab DAD py3.6 R3.6-quay\",\"visibility\":\"Private\"},{\"id\":\"5e5d5751763b2700061e8d95\",\"name\":\"53742-new-env\",\"visibility\":\"Private\"},{\"id\":\"5e617492d9e64f00073d25c7\",\"name\":\"Datawarehousing\",\"visibility\":\"Private\"},{\"id\":\"5e62d6c1763b2700061e931e\",\"name\":\"DAD_Ubuntu18_Py2.7_R3.6\",\"visibility\":\"Private\"},{\"id\":\"5e67df31c3180500063e353f\",\"name\":\"DAD Py3.5 R3.6 2020 Q1\",\"visibility\":\"Private\"},{\"id\":\"5e680e2eaf055b000699c776\",\"name\":\"Akshay_test_vscode_in_Jupyter_DAD Py3.6 R3.6 2020 Q1\",\"visibility\":\"Private\"},{\"id\":\"5e6aacbbaf055b000699ca46\",\"name\":\"fernando1\",\"visibility\":\"Private\"},{\"id\":\"5e712af8886af700076d7c29\",\"name\":\"system-tests-404938-system-tests-4109F9-test_environments_v4_api\",\"visibility\":\"Private\"},{\"id\":\"5e712e6c77b0e30007df54d6\",\"name\":\"system-tests-7E2216-system-tests-116A39-test_domino_defaults_and_post_run\",\"visibility\":\"Private\"},{\"id\":\"5e71301c77b0e30007df562f\",\"name\":\"system-tests-7D553A-test_jupyter_notebook_non_pluggable\",\"visibility\":\"Private\"},{\"id\":\"5e73dcc63aa7f20006bbcbb8\",\"name\":\"DMD FOR 4 Py3.6\",\"visibility\":\"Private\"},{\"id\":\"5e73e33d3aa7f20006bbcbea\",\"name\":\"DMD for 4 Py 3.7\",\"visibility\":\"Private\"},{\"id\":\"5e753c6a7d1bde0007367c74\",\"name\":\"system-tests-66125E-system-tests-86C1A6-test_environments_v4_api\",\"visibility\":\"Private\"},{\"id\":\"5e753d4d7d1bde0007367cae\",\"name\":\"system-tests-DF9EF1-system-tests-D9A055-test_domino_defaults_and_post_run\",\"visibility\":\"Private\"},{\"id\":\"5e78f41820f3160007337909\",\"name\":\"system-tests-8B58EF-system-tests-F6CAAE-test_environments_v4_api\",\"visibility\":\"Private\"},{\"id\":\"5e78f51b3fe1e30007d77cba\",\"name\":\"system-tests-3BE6FF-system-tests-E21C42-test_domino_defaults_and_post_run\",\"visibility\":\"Private\"},{\"id\":\"5e81b3427899070007f915b0\",\"name\":\"Avinash - Domino Analytics Distribution py3.6 R3.6-quay\",\"visibility\":\"Private\"},{\"id\":\"5e84b00b0d389a0006e05104\",\"name\":\"Superset\",\"visibility\":\"Private\"},{\"id\":\"5e87638e5a43d10006ab94a6\",\"name\":\"Hortonworks\",\"visibility\":\"Private\"},{\"id\":\"5e877ee05a43d10006ab94b9\",\"name\":\"MATLAB R2019b\",\"visibility\":\"Private\"},{\"id\":\"5e8a7aa0e0125700062fd08b\",\"name\":\"Polynote_DAD Py3.7 R3.6 2020 Q1\",\"visibility\":\"Private\"},{\"id\":\"5e8e4ffce0125700062fd2b0\",\"name\":\"nick-h2o-test\",\"visibility\":\"Private\"},{\"id\":\"5e911b36e0125700062fd710\",\"name\":\"Duplicate of DAD Py3.5 R3.6 2020 Q1\",\"visibility\":\"Private\"},{\"id\":\"5e94044e5a43d10006ab9d45\",\"name\":\"petter1\",\"visibility\":\"Private\"},{\"id\":\"5e949189e0125700062fd77b\",\"name\":\"Duplicate of Po SAS Analytics for Containers 9.4\",\"visibility\":\"Private\"},{\"id\":\"5e95e289e0125700062fd7db\",\"name\":\"test-pluggable-names\",\"visibility\":\"Private\"},{\"id\":\"5e95e576e0125700062fd7e3\",\"name\":\"ford_nvidia\",\"visibility\":\"Private\"},{\"id\":\"5e960aeb5a43d10006ab9e18\",\"name\":\"GMM DAD_2019_q4\",\"visibility\":\"Private\"},{\"id\":\"5e960b84e0125700062fd804\",\"name\":\"GMM Test 2\",\"visibility\":\"Private\"},{\"id\":\"5e963266e0125700062fd823\",\"name\":\"54706 Domino Analytics Distribution py3.6 R3.6-quay\",\"visibility\":\"Private\"},{\"id\":\"5e96557c5a43d10006ab9e4b\",\"name\":\"Term Domino Analytics Distribution py3.6 R3.6-quay\",\"visibility\":\"Private\"},{\"id\":\"5e965e0fe0125700062fd847\",\"name\":\"Disco Disco\",\"visibility\":\"Private\"},{\"id\":\"5e9778625a43d10006aba0dc\",\"name\":\"Centos_trial\",\"visibility\":\"Private\"},{\"id\":\"5e989a74e0125700062fdb37\",\"name\":\"Streamlit-app\",\"visibility\":\"Private\"},{\"id\":\"5e9debe65a43d10006aba34d\",\"name\":\"Movies\",\"visibility\":\"Private\"},{\"id\":\"5e9f4f5c5a43d10006aba435\",\"name\":\"SAS Viya\",\"visibility\":\"Private\"}]}"
     ]
    }
   ],
   "source": [
    "!curl --location --request GET 'https://staging.domino.tech/v1/environments' \\\n",
    "--header 'Content-Type: application/json' \\\n",
    "--header 'X-Domino-Api-Key: 14638d0d9787faa846073fb0569a2e384d7ebba67bc7205e8b97a9f94fce3a9f' \\\n",
    "--data-raw ''\n",
    "# Be aware that this will return the info for ALL environments in your Domino deployment, so use with caution.\n",
    "# You do not need this ID unless you want to specify an environment different from the default in the project you \n",
    "# deploy your model in."
   ]
  },
  {
   "cell_type": "markdown",
   "metadata": {},
   "source": [
    "### Build Model"
   ]
  },
  {
   "cell_type": "code",
   "execution_count": 4,
   "metadata": {},
   "outputs": [
    {
     "name": "stdout",
     "output_type": "stream",
     "text": [
      "{\"modelId\":\"5e9fbbeb5a43d10006aba5bb\",\"name\":\"My Test Model for ECR\",\"description\":\"Testing default model\",\"environmentId\":\"5d7abf2715f3690007f23081\",\"projectId\":\"5e8fc442e0125700062fd2de\",\"projectName\":\"model-export-demo\",\"buildStatus\":\"preparing\",\"modelVersionId\":\"5e9fbbeb5a43d10006aba5be\",\"modelVersionNumber\":1}"
     ]
    }
   ],
   "source": [
    "!curl --location --request POST 'https://staging.domino.tech/v4/models/buildModelImage' \\\n",
    "--header 'Content-Type: application/json' \\\n",
    "--header 'X-Domino-Api-Key: 14638d0d9787faa846073fb0569a2e384d7ebba67bc7205e8b97a9f94fce3a9f' \\\n",
    "--data-raw '{ \\\n",
    "  \"projectId\": \"5e8fc442e0125700062fd2de\", \\\n",
    "  \"inferenceFunctionFile\": \"model.py\", \\\n",
    "  \"inferenceFunctionToCall\": \"my_model\", \\\n",
    "  \"environmentId\": \"5d7abf2715f3690007f23081\", \\\n",
    "  \"modelName\": \"My Test Model for ECR\", \\\n",
    "  \"logHttpRequestResponse\": true, \\\n",
    "  \"description\": \"Testing default model\" \\\n",
    "}'"
   ]
  },
  {
   "cell_type": "markdown",
   "metadata": {},
   "source": [
    "### Get Model Build Status"
   ]
  },
  {
   "cell_type": "code",
   "execution_count": 5,
   "metadata": {},
   "outputs": [
    {
     "name": "stdout",
     "output_type": "stream",
     "text": [
      "{\"modelId\":\"5e9fbbeb5a43d10006aba5bb\",\"modelVersionId\":\"5e9fbbeb5a43d10006aba5be\",\"status\":\"complete\"}"
     ]
    }
   ],
   "source": [
    "!curl --location --request GET 'https://staging.domino.tech/v4/models/5eb21e76ea278a583191d50b/5eb328e2e42cd45369afee7f/getBuildStatus' \\\n",
    "--header 'Content-Type: application/json' \\\n",
    "--header 'X-Domino-Api-Key: 14638d0d9787faa846073fb0569a2e384d7ebba67bc7205e8b97a9f94fce3a9f' \\\n",
    "--data-raw ''"
   ]
  },
  {
   "cell_type": "markdown",
   "metadata": {},
   "source": [
    "### Get Build Logs"
   ]
  },
  {
   "cell_type": "code",
   "execution_count": 6,
   "metadata": {},
   "outputs": [
    {
     "name": "stdout",
     "output_type": "stream",
     "text": [
      "{\"modelId\":\"5e9fbbeb5a43d10006aba5bb\",\"modelVersionId\":\"5e9fbbeb5a43d10006aba5be\",\"status\":\"complete\",\"logs\":\"{\\\"lines\\\":[{\\\"timestamp\\\":\\\"20200422T033716.728Z\\\",\\\"content\\\":\\\"Building Docker image 100.97.56.113:5000/dom-mdl-5e9fbbeb5a43d10006aba5bb-v1:202042233715_ngehprw9 from source URL http://frontend-nucleus.aws-staging-domino:80/models/5e9fbbeb5a43d10006aba5bb/versions/5e9fbbeb5a43d10006aba5be/dockerImageSourceProject?accessToken=07ngzcxtvxyizpyz6i80csylwaldyoromiyrilnv\\\"},{\\\"timestamp\\\":\\\"20200422T033716.728Z\\\",\\\"content\\\":\\\"\\\"},{\\\"timestamp\\\":\\\"20200422T033718.295Z\\\",\\\"content\\\":\\\"======================================================================\\\"},{\\\"timestamp\\\":\\\"20200422T033718.295Z\\\",\\\"content\\\":\\\"Starting\\\"},{\\\"timestamp\\\":\\\"20200422T033718.295Z\\\",\\\"content\\\":\\\"======================================================================\\\"},{\\\"timestamp\\\":\\\"20200422T033718.332Z\\\",\\\"content\\\":\\\"Building image 100.97.56.113:5000/dom-mdl-5e9fbbeb5a43d10006aba5bb-v1:202042233715_ngehprw9 from http://frontend-nucleus.aws-staging-domino:80/models/5e9fbbeb5a43d10006aba5bb/versions/5e9fbbeb5a43d10006aba5be/dockerImageSourceProject?accessToken=07ngzcxtvxyizpyz6i80csylwaldyoromiyrilnv\\\"},{\\\"timestamp\\\":\\\"20200422T033718.333Z\\\",\\\"content\\\":\\\"======================================================================\\\"},{\\\"timestamp\\\":\\\"20200422T033718.333Z\\\",\\\"content\\\":\\\"Building\\\"},{\\\"timestamp\\\":\\\"20200422T033718.333Z\\\",\\\"content\\\":\\\"======================================================================\\\"},{\\\"timestamp\\\":\\\"20200422T033718.633Z\\\",\\\"content\\\":\\\"Preparing project and dependencies\\\"},{\\\"timestamp\\\":\\\"20200422T033719.424Z\\\",\\\"content\\\":\\\"Linking project to /mnt/akshay_ambekar/model-export-demo\\\"},{\\\"timestamp\\\":\\\"20200422T033719.426Z\\\",\\\"content\\\":\\\"Project and dependencies linked\\\"},{\\\"timestamp\\\":\\\"20200422T033720.297Z\\\",\\\"content\\\":\\\"Step 1/9 : FROM 100.97.56.113:5000/domino-5d7abf2715f3690007f23081:18\\\"},{\\\"timestamp\\\":\\\"20200422T033720.297Z\\\",\\\"content\\\":\\\" ---> 77268081901f\\\"},{\\\"timestamp\\\":\\\"20200422T033720.297Z\\\",\\\"content\\\":\\\"Step 2/9 : ADD files /\\\"},{\\\"timestamp\\\":\\\"20200422T033720.514Z\\\",\\\"content\\\":\\\" ---> b85234c5ae64\\\"},{\\\"timestamp\\\":\\\"20200422T033720.514Z\\\",\\\"content\\\":\\\"Step 3/9 : WORKDIR /mnt/akshay_ambekar/model-export-demo\\\"},{\\\"timestamp\\\":\\\"20200422T033720.568Z\\\",\\\"content\\\":\\\" ---> Running in 0190939066d8\\\"},{\\\"timestamp\\\":\\\"20200422T033720.705Z\\\",\\\"content\\\":\\\"Removing intermediate container 0190939066d8\\\"},{\\\"timestamp\\\":\\\"20200422T033720.706Z\\\",\\\"content\\\":\\\" ---> 6b0892e62a76\\\"},{\\\"timestamp\\\":\\\"20200422T033720.706Z\\\",\\\"content\\\":\\\"Step 4/9 : ENV DOMINO_WORKING_DIR=/mnt/akshay_ambekar/model-export-demo\\\"},{\\\"timestamp\\\":\\\"20200422T033720.753Z\\\",\\\"content\\\":\\\" ---> Running in dfe7f16fb540\\\"},{\\\"timestamp\\\":\\\"20200422T033720.865Z\\\",\\\"content\\\":\\\"Removing intermediate container dfe7f16fb540\\\"},{\\\"timestamp\\\":\\\"20200422T033720.866Z\\\",\\\"content\\\":\\\" ---> 03cbc7146aa5\\\"},{\\\"timestamp\\\":\\\"20200422T033720.866Z\\\",\\\"content\\\":\\\"Step 5/9 : ENV DOMINO_USER_HOST=http://frontend-nucleus.aws-staging-domino:80\\\"},{\\\"timestamp\\\":\\\"20200422T033720.924Z\\\",\\\"content\\\":\\\" ---> Running in 57df3781a7a3\\\"},{\\\"timestamp\\\":\\\"20200422T033721.038Z\\\",\\\"content\\\":\\\"Removing intermediate container 57df3781a7a3\\\"},{\\\"timestamp\\\":\\\"20200422T033721.038Z\\\",\\\"content\\\":\\\" ---> 0542730f1553\\\"},{\\\"timestamp\\\":\\\"20200422T033721.038Z\\\",\\\"content\\\":\\\"Step 6/9 : ENV DOMINO_PROJECT_OWNER=akshay_ambekar\\\"},{\\\"timestamp\\\":\\\"20200422T033721.083Z\\\",\\\"content\\\":\\\" ---> Running in 6b4bed6596a6\\\"},{\\\"timestamp\\\":\\\"20200422T033721.178Z\\\",\\\"content\\\":\\\"Removing intermediate container 6b4bed6596a6\\\"},{\\\"timestamp\\\":\\\"20200422T033721.178Z\\\",\\\"content\\\":\\\" ---> f092d6fe5187\\\"},{\\\"timestamp\\\":\\\"20200422T033721.179Z\\\",\\\"content\\\":\\\"Step 7/9 : ENV DOMINO_PROJECT_NAME=model-export-demo\\\"},{\\\"timestamp\\\":\\\"20200422T033721.235Z\\\",\\\"content\\\":\\\" ---> Running in 61f980d0a099\\\"},{\\\"timestamp\\\":\\\"20200422T033721.341Z\\\",\\\"content\\\":\\\"Removing intermediate container 61f980d0a099\\\"},{\\\"timestamp\\\":\\\"20200422T033721.342Z\\\",\\\"content\\\":\\\" ---> 9fbf33bd1f5d\\\"},{\\\"timestamp\\\":\\\"20200422T033721.342Z\\\",\\\"content\\\":\\\"Step 8/9 : RUN /domino/model-manager/validate-env\\\"},{\\\"timestamp\\\":\\\"20200422T033721.383Z\\\",\\\"content\\\":\\\" ---> Running in cc40b421d009\\\"},{\\\"timestamp\\\":\\\"20200422T033722.841Z\\\",\\\"content\\\":\\\"Collecting requests==2.19.0\\\"},{\\\"timestamp\\\":\\\"20200422T033722.995Z\\\",\\\"content\\\":\\\"  Downloading https://files.pythonhosted.org/packages/cc/15/e1c318dbc20032ffbe5628837ca0de2d5b116ffd1b849c699634010f6a5d/requests-2.19.0-py2.py3-none-any.whl (91kB)\\\"},{\\\"timestamp\\\":\\\"20200422T033723.035Z\\\",\\\"content\\\":\\\"Collecting idna<2.8,>=2.5 (from requests==2.19.0)\\\"},{\\\"timestamp\\\":\\\"20200422T033723.063Z\\\",\\\"content\\\":\\\"  Downloading https://files.pythonhosted.org/packages/4b/2a/0276479a4b3caeb8a8c1af2f8e4355746a97fab05a372e4a2c6a6b876165/idna-2.7-py2.py3-none-any.whl (58kB)\\\"},{\\\"timestamp\\\":\\\"20200422T033723.072Z\\\",\\\"content\\\":\\\"Requirement already satisfied: chardet<3.1.0,>=3.0.2 in /usr/local/anaconda/lib/python3.6/site-packages (from requests==2.19.0) (3.0.4)\\\"},{\\\"timestamp\\\":\\\"20200422T033723.073Z\\\",\\\"content\\\":\\\"Requirement already satisfied: certifi>=2017.4.17 in /usr/local/anaconda/lib/python3.6/site-packages (from requests==2.19.0) (2019.9.11)\\\"},{\\\"timestamp\\\":\\\"20200422T033723.074Z\\\",\\\"content\\\":\\\"Collecting urllib3<1.24,>=1.21.1 (from requests==2.19.0)\\\"},{\\\"timestamp\\\":\\\"20200422T033723.120Z\\\",\\\"content\\\":\\\"  Downloading https://files.pythonhosted.org/packages/bd/c9/6fdd990019071a4a32a5e7cb78a1d92c53851ef4f56f62a3486e6a7d8ffb/urllib3-1.23-py2.py3-none-any.whl (133kB)\\\"},{\\\"timestamp\\\":\\\"20200422T033723.844Z\\\",\\\"content\\\":\\\"Installing collected packages: idna, urllib3, requests\\\"},{\\\"timestamp\\\":\\\"20200422T033723.844Z\\\",\\\"content\\\":\\\"  Found existing installation: idna 2.8\\\"},{\\\"timestamp\\\":\\\"20200422T033723.849Z\\\",\\\"content\\\":\\\"    Uninstalling idna-2.8:\\\"},{\\\"timestamp\\\":\\\"20200422T033723.866Z\\\",\\\"content\\\":\\\"      Successfully uninstalled idna-2.8\\\"},{\\\"timestamp\\\":\\\"20200422T033723.929Z\\\",\\\"content\\\":\\\"  Found existing installation: urllib3 1.25.3\\\"},{\\\"timestamp\\\":\\\"20200422T033723.946Z\\\",\\\"content\\\":\\\"    Uninstalling urllib3-1.25.3:\\\"},{\\\"timestamp\\\":\\\"20200422T033724.053Z\\\",\\\"content\\\":\\\"      Successfully uninstalled urllib3-1.25.3\\\"},{\\\"timestamp\\\":\\\"20200422T033724.106Z\\\",\\\"content\\\":\\\"  Found existing installation: requests 2.22.0\\\"},{\\\"timestamp\\\":\\\"20200422T033724.113Z\\\",\\\"content\\\":\\\"    Uninstalling requests-2.22.0:\\\"},{\\\"timestamp\\\":\\\"20200422T033724.134Z\\\",\\\"content\\\":\\\"      Successfully uninstalled requests-2.22.0\\\"},{\\\"timestamp\\\":\\\"20200422T033724.269Z\\\",\\\"content\\\":\\\"Successfully installed idna-2.7 requests-2.19.0 urllib3-1.23\\\"},{\\\"timestamp\\\":\\\"20200422T033724.461Z\\\",\\\"content\\\":\\\"\\\\u001B[91mWARNING: You are using pip version 19.2.3, however version 20.0.2 is available.\\\"},{\\\"timestamp\\\":\\\"20200422T033724.461Z\\\",\\\"content\\\":\\\"You should consider upgrading via the 'pip install --upgrade pip' command.\\\"},{\\\"timestamp\\\":\\\"20200422T033724.461Z\\\",\\\"content\\\":\\\"\\\\u001B[0m\\\"},{\\\"timestamp\\\":\\\"20200422T033724.517Z\\\",\\\"content\\\":\\\"wget is /usr/bin/wget\\\"},{\\\"timestamp\\\":\\\"20200422T033725.108Z\\\",\\\"content\\\":\\\"Flask==1.1.1\\\"},{\\\"timestamp\\\":\\\"20200422T033725.108Z\\\",\\\"content\\\":\\\"Flask-Compress==1.4.0\\\"},{\\\"timestamp\\\":\\\"20200422T033725.108Z\\\",\\\"content\\\":\\\"Flask-Cors==3.0.4\\\"},{\\\"timestamp\\\":\\\"20200422T033725.678Z\\\",\\\"content\\\":\\\"jsonify==0.5\\\"},{\\\"timestamp\\\":\\\"20200422T033726.256Z\\\",\\\"content\\\":\\\"uWSGI==2.0.18\\\"},{\\\"timestamp\\\":\\\"20200422T033726.835Z\\\",\\\"content\\\":\\\"requests==2.19.0\\\"},{\\\"timestamp\\\":\\\"20200422T033727.241Z\\\",\\\"content\\\":\\\"Removing intermediate container cc40b421d009\\\"},{\\\"timestamp\\\":\\\"20200422T033727.241Z\\\",\\\"content\\\":\\\" ---> 50721ec4d046\\\"},{\\\"timestamp\\\":\\\"20200422T033727.242Z\\\",\\\"content\\\":\\\"Step 9/9 : CMD [ \\\\\\\"/domino/model-manager/launch\\\\\\\" ]\\\"},{\\\"timestamp\\\":\\\"20200422T033727.299Z\\\",\\\"content\\\":\\\" ---> Running in 51b7a72c7b5b\\\"},{\\\"timestamp\\\":\\\"20200422T033727.418Z\\\",\\\"content\\\":\\\"Removing intermediate container 51b7a72c7b5b\\\"},{\\\"timestamp\\\":\\\"20200422T033727.418Z\\\",\\\"content\\\":\\\" ---> 460e9a7dad48\\\"},{\\\"timestamp\\\":\\\"20200422T033727.420Z\\\",\\\"content\\\":\\\"Successfully built 460e9a7dad48\\\"},{\\\"timestamp\\\":\\\"20200422T033727.424Z\\\",\\\"content\\\":\\\"Successfully tagged 100.97.56.113:5000/dom-mdl-5e9fbbeb5a43d10006aba5bb-v1:202042233715_ngehprw9\\\"},{\\\"timestamp\\\":\\\"20200422T033727.436Z\\\",\\\"content\\\":\\\"ImageId: 460e9a7dad48\\\"},{\\\"timestamp\\\":\\\"20200422T033727.494Z\\\",\\\"content\\\":\\\"Image 100.97.56.113:5000/dom-mdl-5e9fbbeb5a43d10006aba5bb-v1:202042233715_ngehprw9, id: 460e9a7dad48, size: 12.3 G\\\"},{\\\"timestamp\\\":\\\"20200422T033727.495Z\\\",\\\"content\\\":\\\"Pushing image 100.97.56.113:5000/dom-mdl-5e9fbbeb5a43d10006aba5bb-v1:202042233715_ngehprw9\\\"},{\\\"timestamp\\\":\\\"20200422T033727.495Z\\\",\\\"content\\\":\\\"======================================================================\\\"},{\\\"timestamp\\\":\\\"20200422T033727.495Z\\\",\\\"content\\\":\\\"Pushing\\\"},{\\\"timestamp\\\":\\\"20200422T033727.495Z\\\",\\\"content\\\":\\\"======================================================================\\\"},{\\\"timestamp\\\":\\\"20200422T033727.594Z\\\",\\\"content\\\":\\\"The push refers to repository [100.97.56.113:5000/dom-mdl-5e9fbbeb5a43d10006aba5bb-v1]\\\"},{\\\"timestamp\\\":\\\"20200422T033727.603Z\\\",\\\"content\\\":\\\"7481ab018cca: Preparing\\\"},{\\\"timestamp\\\":\\\"20200422T033727.603Z\\\",\\\"content\\\":\\\"f42238e65da3: Preparing\\\"},{\\\"timestamp\\\":\\\"20200422T033727.603Z\\\",\\\"content\\\":\\\"9c7d6d6ac08d: Preparing\\\"},{\\\"timestamp\\\":\\\"20200422T033727.604Z\\\",\\\"content\\\":\\\"8d3edfa24b99: Preparing\\\"},{\\\"timestamp\\\":\\\"20200422T033727.604Z\\\",\\\"content\\\":\\\"59a7f4cd7d9f: Preparing\\\"},{\\\"timestamp\\\":\\\"20200422T033727.604Z\\\",\\\"content\\\":\\\"d916e17cbdc3: Preparing\\\"},{\\\"timestamp\\\":\\\"20200422T033727.604Z\\\",\\\"content\\\":\\\"e9e29b9462b6: Preparing\\\"},{\\\"timestamp\\\":\\\"20200422T033727.604Z\\\",\\\"content\\\":\\\"d8c1090f04eb: Preparing\\\"},{\\\"timestamp\\\":\\\"20200422T033727.604Z\\\",\\\"content\\\":\\\"3acae4b3a7ab: Preparing\\\"},{\\\"timestamp\\\":\\\"20200422T033727.604Z\\\",\\\"content\\\":\\\"00e618cc3ec0: Preparing\\\"},{\\\"timestamp\\\":\\\"20200422T033727.605Z\\\",\\\"content\\\":\\\"899208ca3d37: Preparing\\\"},{\\\"timestamp\\\":\\\"20200422T033727.605Z\\\",\\\"content\\\":\\\"9720d495b88c: Preparing\\\"},{\\\"timestamp\\\":\\\"20200422T033727.605Z\\\",\\\"content\\\":\\\"656a2032f28b: Preparing\\\"},{\\\"timestamp\\\":\\\"20200422T033727.605Z\\\",\\\"content\\\":\\\"1ca4db57e36a: Preparing\\\"},{\\\"timestamp\\\":\\\"20200422T033727.605Z\\\",\\\"content\\\":\\\"e25a47dfa8d2: Preparing\\\"},{\\\"timestamp\\\":\\\"20200422T033727.606Z\\\",\\\"content\\\":\\\"529ff1fca70b: Preparing\\\"},{\\\"timestamp\\\":\\\"20200422T033727.606Z\\\",\\\"content\\\":\\\"6d52ae76d5fb: Preparing\\\"},{\\\"timestamp\\\":\\\"20200422T033727.606Z\\\",\\\"content\\\":\\\"5c95e8c95e14: Preparing\\\"},{\\\"timestamp\\\":\\\"20200422T033727.606Z\\\",\\\"content\\\":\\\"61de9b79332a: Preparing\\\"},{\\\"timestamp\\\":\\\"20200422T033727.607Z\\\",\\\"content\\\":\\\"e034c1e91f93: Preparing\\\"},{\\\"timestamp\\\":\\\"20200422T033727.607Z\\\",\\\"content\\\":\\\"d916e17cbdc3: Waiting\\\"},{\\\"timestamp\\\":\\\"20200422T033727.607Z\\\",\\\"content\\\":\\\"d8c1090f04eb: Waiting\\\"},{\\\"timestamp\\\":\\\"20200422T033727.607Z\\\",\\\"content\\\":\\\"a548fb0740db: Preparing\\\"},{\\\"timestamp\\\":\\\"20200422T033727.607Z\\\",\\\"content\\\":\\\"e9e29b9462b6: Waiting\\\"},{\\\"timestamp\\\":\\\"20200422T033727.607Z\\\",\\\"content\\\":\\\"b97507876d9f: Preparing\\\"},{\\\"timestamp\\\":\\\"20200422T033727.608Z\\\",\\\"content\\\":\\\"94828d7ef392: Preparing\\\"},{\\\"timestamp\\\":\\\"20200422T033727.608Z\\\",\\\"content\\\":\\\"c8af03992c97: Preparing\\\"},{\\\"timestamp\\\":\\\"20200422T033727.608Z\\\",\\\"content\\\":\\\"3acae4b3a7ab: Waiting\\\"},{\\\"timestamp\\\":\\\"20200422T033727.608Z\\\",\\\"content\\\":\\\"1d5b57cef46c: Preparing\\\"},{\\\"timestamp\\\":\\\"20200422T033727.609Z\\\",\\\"content\\\":\\\"00e618cc3ec0: Waiting\\\"},{\\\"timestamp\\\":\\\"20200422T033727.609Z\\\",\\\"content\\\":\\\"a3f986a61a45: Preparing\\\"},{\\\"timestamp\\\":\\\"20200422T033727.609Z\\\",\\\"content\\\":\\\"899208ca3d37: Waiting\\\"},{\\\"timestamp\\\":\\\"20200422T033727.609Z\\\",\\\"content\\\":\\\"e25a47dfa8d2: Waiting\\\"},{\\\"timestamp\\\":\\\"20200422T033727.610Z\\\",\\\"content\\\":\\\"8fe5851c4712: Preparing\\\"},{\\\"timestamp\\\":\\\"20200422T033727.610Z\\\",\\\"content\\\":\\\"e034c1e91f93: Waiting\\\"},{\\\"timestamp\\\":\\\"20200422T033727.610Z\\\",\\\"content\\\":\\\"064335b960f7: Preparing\\\"},{\\\"timestamp\\\":\\\"20200422T033727.610Z\\\",\\\"content\\\":\\\"9720d495b88c: Waiting\\\"},{\\\"timestamp\\\":\\\"20200422T033727.610Z\\\",\\\"content\\\":\\\"c5b0e5068b7c: Preparing\\\"},{\\\"timestamp\\\":\\\"20200422T033727.610Z\\\",\\\"content\\\":\\\"529ff1fca70b: Waiting\\\"},{\\\"timestamp\\\":\\\"20200422T033727.610Z\\\",\\\"content\\\":\\\"a548fb0740db: Waiting\\\"},{\\\"timestamp\\\":\\\"20200422T033727.610Z\\\",\\\"content\\\":\\\"b60f58aabee6: Preparing\\\"},{\\\"timestamp\\\":\\\"20200422T033727.610Z\\\",\\\"content\\\":\\\"656a2032f28b: Waiting\\\"},{\\\"timestamp\\\":\\\"20200422T033727.610Z\\\",\\\"content\\\":\\\"7685b493c2bb: Preparing\\\"},{\\\"timestamp\\\":\\\"20200422T033727.610Z\\\",\\\"content\\\":\\\"6d52ae76d5fb: Waiting\\\"},{\\\"timestamp\\\":\\\"20200422T033727.610Z\\\",\\\"content\\\":\\\"1ca4db57e36a: Waiting\\\"},{\\\"timestamp\\\":\\\"20200422T033727.611Z\\\",\\\"content\\\":\\\"07c47990f094: Preparing\\\"},{\\\"timestamp\\\":\\\"20200422T033727.611Z\\\",\\\"content\\\":\\\"10fdf323b6a4: Preparing\\\"},{\\\"timestamp\\\":\\\"20200422T033727.611Z\\\",\\\"content\\\":\\\"5c95e8c95e14: Waiting\\\"},{\\\"timestamp\\\":\\\"20200422T033727.611Z\\\",\\\"content\\\":\\\"b97507876d9f: Waiting\\\"},{\\\"timestamp\\\":\\\"20200422T033727.611Z\\\",\\\"content\\\":\\\"48d5c2e6bf93: Preparing\\\"},{\\\"timestamp\\\":\\\"20200422T033727.611Z\\\",\\\"content\\\":\\\"bd5eff395ee1: Preparing\\\"},{\\\"timestamp\\\":\\\"20200422T033727.611Z\\\",\\\"content\\\":\\\"61de9b79332a: Waiting\\\"},{\\\"timestamp\\\":\\\"20200422T033727.611Z\\\",\\\"content\\\":\\\"94828d7ef392: Waiting\\\"},{\\\"timestamp\\\":\\\"20200422T033727.612Z\\\",\\\"content\\\":\\\"1c3209a03b08: Preparing\\\"},{\\\"timestamp\\\":\\\"20200422T033727.612Z\\\",\\\"content\\\":\\\"bb2001c9088c: Preparing\\\"},{\\\"timestamp\\\":\\\"20200422T033727.612Z\\\",\\\"content\\\":\\\"a3f986a61a45: Waiting\\\"},{\\\"timestamp\\\":\\\"20200422T033727.613Z\\\",\\\"content\\\":\\\"c5542b9e9fcf: Preparing\\\"},{\\\"timestamp\\\":\\\"20200422T033727.613Z\\\",\\\"content\\\":\\\"c8af03992c97: Waiting\\\"},{\\\"timestamp\\\":\\\"20200422T033727.613Z\\\",\\\"content\\\":\\\"122be11ab4a2: Preparing\\\"},{\\\"timestamp\\\":\\\"20200422T033727.613Z\\\",\\\"content\\\":\\\"1d5b57cef46c: Waiting\\\"},{\\\"timestamp\\\":\\\"20200422T033727.614Z\\\",\\\"content\\\":\\\"7beb13bce073: Preparing\\\"},{\\\"timestamp\\\":\\\"20200422T033727.614Z\\\",\\\"content\\\":\\\"8fe5851c4712: Waiting\\\"},{\\\"timestamp\\\":\\\"20200422T033727.614Z\\\",\\\"content\\\":\\\"f7eae43028b3: Preparing\\\"},{\\\"timestamp\\\":\\\"20200422T033727.614Z\\\",\\\"content\\\":\\\"6cebf3abed5f: Preparing\\\"},{\\\"timestamp\\\":\\\"20200422T033727.614Z\\\",\\\"content\\\":\\\"064335b960f7: Waiting\\\"},{\\\"timestamp\\\":\\\"20200422T033727.614Z\\\",\\\"content\\\":\\\"c5b0e5068b7c: Waiting\\\"},{\\\"timestamp\\\":\\\"20200422T033727.614Z\\\",\\\"content\\\":\\\"10fdf323b6a4: Waiting\\\"},{\\\"timestamp\\\":\\\"20200422T033727.614Z\\\",\\\"content\\\":\\\"b60f58aabee6: Waiting\\\"},{\\\"timestamp\\\":\\\"20200422T033727.614Z\\\",\\\"content\\\":\\\"48d5c2e6bf93: Waiting\\\"},{\\\"timestamp\\\":\\\"20200422T033727.615Z\\\",\\\"content\\\":\\\"7685b493c2bb: Waiting\\\"},{\\\"timestamp\\\":\\\"20200422T033727.615Z\\\",\\\"content\\\":\\\"bd5eff395ee1: Waiting\\\"},{\\\"timestamp\\\":\\\"20200422T033727.615Z\\\",\\\"content\\\":\\\"07c47990f094: Waiting\\\"},{\\\"timestamp\\\":\\\"20200422T033727.615Z\\\",\\\"content\\\":\\\"1c3209a03b08: Waiting\\\"},{\\\"timestamp\\\":\\\"20200422T033727.615Z\\\",\\\"content\\\":\\\"bb2001c9088c: Waiting\\\"},{\\\"timestamp\\\":\\\"20200422T033727.615Z\\\",\\\"content\\\":\\\"f7eae43028b3: Waiting\\\"},{\\\"timestamp\\\":\\\"20200422T033727.615Z\\\",\\\"content\\\":\\\"c5542b9e9fcf: Waiting\\\"},{\\\"timestamp\\\":\\\"20200422T033727.616Z\\\",\\\"content\\\":\\\"6cebf3abed5f: Waiting\\\"},{\\\"timestamp\\\":\\\"20200422T033727.616Z\\\",\\\"content\\\":\\\"7beb13bce073: Waiting\\\"},{\\\"timestamp\\\":\\\"20200422T033727.817Z\\\",\\\"content\\\":\\\"59a7f4cd7d9f: Mounted from domino-5e989a74e0125700062fdb37\\\"},{\\\"timestamp\\\":\\\"20200422T033727.823Z\\\",\\\"content\\\":\\\"f42238e65da3: Pushing\\\"},{\\\"timestamp\\\":\\\"20200422T033727.842Z\\\",\\\"content\\\":\\\"8d3edfa24b99: Mounted from domino-5e989a74e0125700062fdb37\\\"},{\\\"timestamp\\\":\\\"20200422T033727.855Z\\\",\\\"content\\\":\\\"9c7d6d6ac08d: Mounted from domino-5e989a74e0125700062fdb37\\\"},{\\\"timestamp\\\":\\\"20200422T033727.865Z\\\",\\\"content\\\":\\\"7481ab018cca: Pushing\\\"},{\\\"timestamp\\\":\\\"20200422T033727.901Z\\\",\\\"content\\\":\\\"d916e17cbdc3: Mounted from domino-5e989a74e0125700062fdb37\\\"},{\\\"timestamp\\\":\\\"20200422T033727.934Z\\\",\\\"content\\\":\\\"e9e29b9462b6: Mounted from domino-5e989a74e0125700062fdb37\\\"},{\\\"timestamp\\\":\\\"20200422T033727.936Z\\\",\\\"content\\\":\\\"d8c1090f04eb: Mounted from domino-5e989a74e0125700062fdb37\\\"},{\\\"timestamp\\\":\\\"20200422T033727.988Z\\\",\\\"content\\\":\\\"3acae4b3a7ab: Mounted from domino-5e989a74e0125700062fdb37\\\"},{\\\"timestamp\\\":\\\"20200422T033728.016Z\\\",\\\"content\\\":\\\"899208ca3d37: Mounted from domino-5e989a74e0125700062fdb37\\\"},{\\\"timestamp\\\":\\\"20200422T033728.026Z\\\",\\\"content\\\":\\\"00e618cc3ec0: Mounted from domino-5e989a74e0125700062fdb37\\\"},{\\\"timestamp\\\":\\\"20200422T033728.097Z\\\",\\\"content\\\":\\\"656a2032f28b: Mounted from domino-5e989a74e0125700062fdb37\\\"},{\\\"timestamp\\\":\\\"20200422T033728.125Z\\\",\\\"content\\\":\\\"9720d495b88c: Mounted from domino-5e989a74e0125700062fdb37\\\"},{\\\"timestamp\\\":\\\"20200422T033728.176Z\\\",\\\"content\\\":\\\"e25a47dfa8d2: Mounted from domino-5e989a74e0125700062fdb37\\\"},{\\\"timestamp\\\":\\\"20200422T033728.193Z\\\",\\\"content\\\":\\\"1ca4db57e36a: Mounted from domino-5e989a74e0125700062fdb37\\\"},{\\\"timestamp\\\":\\\"20200422T033728.250Z\\\",\\\"content\\\":\\\"529ff1fca70b: Mounted from domino-5e989a74e0125700062fdb37\\\"},{\\\"timestamp\\\":\\\"20200422T033728.381Z\\\",\\\"content\\\":\\\"6d52ae76d5fb: Mounted from domino-5e989a74e0125700062fdb37\\\"},{\\\"timestamp\\\":\\\"20200422T033728.385Z\\\",\\\"content\\\":\\\"5c95e8c95e14: Mounted from domino-5e989a74e0125700062fdb37\\\"},{\\\"timestamp\\\":\\\"20200422T033728.420Z\\\",\\\"content\\\":\\\"61de9b79332a: Mounted from domino-5e989a74e0125700062fdb37\\\"},{\\\"timestamp\\\":\\\"20200422T033728.535Z\\\",\\\"content\\\":\\\"a548fb0740db: Mounted from domino-5e989a74e0125700062fdb37\\\"},{\\\"timestamp\\\":\\\"20200422T033728.540Z\\\",\\\"content\\\":\\\"b97507876d9f: Mounted from domino-5e989a74e0125700062fdb37\\\"},{\\\"timestamp\\\":\\\"20200422T033728.597Z\\\",\\\"content\\\":\\\"e034c1e91f93: Mounted from domino-5e989a74e0125700062fdb37\\\"},{\\\"timestamp\\\":\\\"20200422T033728.651Z\\\",\\\"content\\\":\\\"c8af03992c97: Mounted from domino-5e989a74e0125700062fdb37\\\"},{\\\"timestamp\\\":\\\"20200422T033728.699Z\\\",\\\"content\\\":\\\"1d5b57cef46c: Mounted from domino-5e989a74e0125700062fdb37\\\"},{\\\"timestamp\\\":\\\"20200422T033728.703Z\\\",\\\"content\\\":\\\"94828d7ef392: Mounted from domino-5e989a74e0125700062fdb37\\\"},{\\\"timestamp\\\":\\\"20200422T033728.761Z\\\",\\\"content\\\":\\\"a3f986a61a45: Mounted from domino-5e989a74e0125700062fdb37\\\"},{\\\"timestamp\\\":\\\"20200422T033728.813Z\\\",\\\"content\\\":\\\"8fe5851c4712: Mounted from domino-5e989a74e0125700062fdb37\\\"},{\\\"timestamp\\\":\\\"20200422T033728.855Z\\\",\\\"content\\\":\\\"064335b960f7: Mounted from domino-5e989a74e0125700062fdb37\\\"},{\\\"timestamp\\\":\\\"20200422T033728.888Z\\\",\\\"content\\\":\\\"c5b0e5068b7c: Mounted from domino-5e989a74e0125700062fdb37\\\"},{\\\"timestamp\\\":\\\"20200422T033728.946Z\\\",\\\"content\\\":\\\"7685b493c2bb: Mounted from domino-5e989a74e0125700062fdb37\\\"},{\\\"timestamp\\\":\\\"20200422T033728.946Z\\\",\\\"content\\\":\\\"b60f58aabee6: Mounted from domino-5e989a74e0125700062fdb37\\\"},{\\\"timestamp\\\":\\\"20200422T033729.016Z\\\",\\\"content\\\":\\\"07c47990f094: Mounted from domino-5e989a74e0125700062fdb37\\\"},{\\\"timestamp\\\":\\\"20200422T033729.039Z\\\",\\\"content\\\":\\\"48d5c2e6bf93: Mounted from domino-5e989a74e0125700062fdb37\\\"},{\\\"timestamp\\\":\\\"20200422T033729.063Z\\\",\\\"content\\\":\\\"10fdf323b6a4: Mounted from domino-5e989a74e0125700062fdb37\\\"},{\\\"timestamp\\\":\\\"20200422T033729.138Z\\\",\\\"content\\\":\\\"1c3209a03b08: Mounted from domino-5e989a74e0125700062fdb37\\\"},{\\\"timestamp\\\":\\\"20200422T033729.165Z\\\",\\\"content\\\":\\\"bb2001c9088c: Mounted from domino-5e989a74e0125700062fdb37\\\"},{\\\"timestamp\\\":\\\"20200422T033729.179Z\\\",\\\"content\\\":\\\"bd5eff395ee1: Mounted from domino-5e989a74e0125700062fdb37\\\"},{\\\"timestamp\\\":\\\"20200422T033729.244Z\\\",\\\"content\\\":\\\"f42238e65da3: Pushed\\\"},{\\\"timestamp\\\":\\\"20200422T033729.269Z\\\",\\\"content\\\":\\\"c5542b9e9fcf: Mounted from domino-5e989a74e0125700062fdb37\\\"},{\\\"timestamp\\\":\\\"20200422T033729.320Z\\\",\\\"content\\\":\\\"122be11ab4a2: Mounted from domino-5e989a74e0125700062fdb37\\\"},{\\\"timestamp\\\":\\\"20200422T033729.376Z\\\",\\\"content\\\":\\\"6cebf3abed5f: Mounted from domino-5e989a74e0125700062fdb37\\\"},{\\\"timestamp\\\":\\\"20200422T033729.401Z\\\",\\\"content\\\":\\\"f7eae43028b3: Mounted from domino-5e989a74e0125700062fdb37\\\"},{\\\"timestamp\\\":\\\"20200422T033729.405Z\\\",\\\"content\\\":\\\"7beb13bce073: Mounted from domino-5e989a74e0125700062fdb37\\\"},{\\\"timestamp\\\":\\\"20200422T033729.588Z\\\",\\\"content\\\":\\\"7481ab018cca: Pushed\\\"},{\\\"timestamp\\\":\\\"20200422T033730.834Z\\\",\\\"content\\\":\\\"202042233715_ngehprw9: digest: sha256:eff3ba2d977da08af3f2e93e353a77f164ae8dcc7989e5500798459313c576e6 size: 9156\\\"},{\\\"timestamp\\\":\\\"20200422T033730.838Z\\\",\\\"content\\\":\\\"======================================================================\\\"},{\\\"timestamp\\\":\\\"20200422T033730.838Z\\\",\\\"content\\\":\\\"Succeeded\\\"},{\\\"timestamp\\\":\\\"20200422T033730.838Z\\\",\\\"content\\\":\\\"======================================================================\\\"},{\\\"timestamp\\\":\\\"20200422T033730.850Z\\\",\\\"content\\\":\\\"SUCCESS: Successfully built and pushed image 100.97.56.113:5000/dom-mdl-5e9fbbeb5a43d10006aba5bb-v1:202042233715_ngehprw9 from Image (url: http://frontend-nucleus.aws-staging-domino:80/models/5e9fbbeb5a43d10006aba5bb/versions/5e9fbbeb5a43d10006aba5be/dockerImageSourceProject?accessToken=07ngzcxtvxyizpyz6i80csylwaldyoromiyrilnv, project: 5e8fc442e0125700062fd2de)\\\"}]}\"}"
     ]
    }
   ],
   "source": [
    "!curl --location --request GET 'https://staging.domino.tech/v4/models/5e9fbbeb5a43d10006aba5bb/5e9fbbeb5a43d10006aba5be/getBuildLogs' \\\n",
    "--header 'Content-Type: application/json' \\\n",
    "--header 'X-Domino-Api-Key: 14638d0d9787faa846073fb0569a2e384d7ebba67bc7205e8b97a9f94fce3a9f' \\\n",
    "--data-raw ''\n"
   ]
  },
  {
   "cell_type": "markdown",
   "metadata": {},
   "source": [
    "### Export Model to External Registry"
   ]
  },
  {
   "cell_type": "code",
   "execution_count": 8,
   "metadata": {},
   "outputs": [
    {
     "name": "stdout",
     "output_type": "stream",
     "text": [
      "{\"message\":\"Unexpected exception[NotAuthorizedException: Not authorized: Not authorized]\",\"success\":false}"
     ]
    }
   ],
   "source": [
    "!curl --location --request POST 'https://staging.domino.tech/v4/models/5eb21e76ea278a583191d50b/5eb328e2e42cd45369afee7f/exportImageToRegistry' \\\n",
    "--header 'Content-Type: application/json' \\\n",
    "--header 'X-Domino-Api-Key: 618338b3904f2b993d60d5660fe9537531821581944c8783f49547c54765896f' \\\n",
    "--data-raw '{ \"registryUrl\": \"946429944765.dkr.ecr.us-east-1.amazonaws.com\", \\\n",
    "  \"repository\": \"akshay-test\", \\\n",
    "  \"tag\": \"test-rail-model-v1\", \\\n",
    "  \"username\": \"AWS\", \\\n",
    "  \"password\": \"eyJwYXlsb2FkIjoiMWY4UFdmTHlEL0N3dUUwSzVBMGdUL0VBbUZSc2h5QTlGYVh0WC92cjFIbHhSQXBneFBMeVBTamkzOWJhcHMxS3UrODVLcXFwQjNZdmtHU2tMR0J4WEF6Rk9uNVNkUHNIV1YxK29KdFhXU1hjZnBWSjNNYUNVN2xZeDlySFE4UWJRRTJ3bDI2b2MrdlhhWG1kdzBRbWNkbmIydHVLUUZNNVNhOXdyaWw4SzhKWjFvL1gycWErQVNnb3Q1WDBhTHpWSUJybndCbXR4RXFQc0xNcmtWcW9jMlFaM2YwbkppMDhtSHZ0K0tIUXMySWpJMlliQmNDcVVGYklFUHpJN3J4SHAyelR5S3p6MmczUkZIMkF4N016UEdPcEZRb2hVc3A3NytaYnhTN0o3Q2ZKdDVqMENTRklaclJHbUpBa2ZxOSswQ3RaVDMybDB5TEZWTVJDc3NtY1dXdFJQem52SGZUb1gyLzh5bmdYdGptVXBoUW0vK3UrQmxabGprVkdWNmc0dWNqVzZxQ3hZUzhxb0p0dlhtOVpUQTV3MXlzeVZDRWgrdEcvU1pTYWpLSGVlS2d4WUUvaG10SEllaGxwM0phbmhGTFVkOEIvRlNRMW1YNDV0bjdBc21yK1lld0ZncThrMVloMW1nTUdzQkpaTkczS0RxckZwWWZYeVFoZVpTbXVab0xudDJYODBLdHRwYmdFdGRLUHFpUFN5L0VoMVRpdDFyem5hZWprSExVNDBWTVhGOU9SUGtHU3JnKzlWQmFxNTA0cWswV1F1Z2pTRDNaMUFrcmFvRGZLQ09acFJjelRKYjBIT0FUT1R4VWVuR240RFFUM2w0dGI5d2pXcjBZVFpqRSs5MUhiU3pDUWczai85TU1tRWpmQWswa1lrcFppSEFjWFVHRUJjV3BGWU5UUmJLOUl5QkFuMWwweVgvVkdRTU9leFVUQThGdFRVK1lsWUpkL0VFWnQ2ejRKMTdkeE4wS1VEV21IQVRJcFBFcktwZWlTbVRFTm1JOWZUQzI5bStVRFZHLzZiS3M0U0hFYmRYQUJLbjZWUTl6MWkvV3ZReDdJWTJuYkFhZmpJZVVhaWF0bktMNE9yNHloV09hT3JlQ0kxR1pqK1Jqd2Zzb2VrUzZuT3QweUxaTSs2TzMzZzJiKzZ4a21WdVZ1RSs0Wm5mSkw3eHc0dnRRSHgvUjNoaC9MQ0dQaURiT252ZkJxRWZUZlpyVWJST2wvYWxHUDF1dU1EQjFsS3BsenRPclo5TXhoZklzSVRWUHRnMXVzL0M1U3Zzb0FSMzZ1QTRCeGhPU0hKRjN4RmcyV3FwWHlpUk8wNGRNQm5yMmY4cDdaZmRMVU8veFcvZ05ZWnl1elhYMHhCVE05RkFMWEZYVmFEbkhHQk5IQVpVYzg2MFNtVzlxcXJSeUNFTGptc0IzWWpXU1BOMWgzWUNpVVhETmtETUl4Vm4wK3IzZlE5dz09IiwiZGF0YWtleSI6IkFRRUJBSGh3bTBZYUlTSmVSdEptNW4xRzZ1cWVla1h1b1hYUGU1VUZjZTlScTgvMTR3QUFBSDR3ZkFZSktvWklodmNOQVFjR29HOHdiUUlCQURCb0Jna3Foa2lHOXcwQkJ3RXdIZ1lKWUlaSUFXVURCQUV1TUJFRURPZ2F6VHFMNzBxNWQ4TXhIQUlCRUlBN3FZTjcrenNOdTh1ZkdibyttQ2Jrd3YrVTlMUjdqM2RpaUFkYks3L3N4cWVMbTgxdERET2RqSnZ6U0w0VGlUb2RHOXQ5NDd6eGtMdWF2UW89IiwidmVyc2lvbiI6IjIiLCJ0eXBlIjoiREFUQV9LRVkiLCJleHBpcmF0aW9uIjoxNTg4ODQ0ODczfQ==\" }'"
   ]
  },
  {
   "cell_type": "markdown",
   "metadata": {},
   "source": [
    "### Check Export Status"
   ]
  },
  {
   "cell_type": "code",
   "execution_count": 6,
   "metadata": {},
   "outputs": [
    {
     "name": "stdout",
     "output_type": "stream",
     "text": [
      "{\"modelId\":\"5eb21e76ea278a583191d50b\",\"modelVersionId\":\"5eb328e2e42cd45369afee7f\",\"exportId\":\"5eb334b0e42cd45369afee96\",\"status\":\"complete\"}"
     ]
    }
   ],
   "source": [
    "!curl --location --request GET 'https://staging.domino.tech/v4/models/5eb334b0e42cd45369afee96/getExportImageStatus' \\\n",
    "--header 'Content-Type: application/json' \\\n",
    "--header 'X-Domino-Api-Key: 618338b3904f2b993d60d5660fe9537531821581944c8783f49547c54765896f' \\\n",
    "--data-raw ''"
   ]
  },
  {
   "cell_type": "markdown",
   "metadata": {},
   "source": [
    "### Get Export Logs"
   ]
  },
  {
   "cell_type": "code",
   "execution_count": 7,
   "metadata": {},
   "outputs": [
    {
     "name": "stdout",
     "output_type": "stream",
     "text": [
      "{\"modelId\":\"5eb21e76ea278a583191d50b\",\"modelVersionId\":\"5eb328e2e42cd45369afee7f\",\"exportId\":\"5eb334b0e42cd45369afee96\",\"status\":\"complete\",\"logs\":\"{\\\"lines\\\":[{\\\"timestamp\\\":\\\"20200506T220552.685Z\\\",\\\"content\\\":\\\"Pulling and pushing Docker image 100.97.40.227:5000/dom-mdl-5eb21e76ea278a583191d50b-v3:202056211514_zbq5bENw\\\"},{\\\"timestamp\\\":\\\"20200506T220552.685Z\\\",\\\"content\\\":\\\"\\\"},{\\\"timestamp\\\":\\\"20200506T220554.268Z\\\",\\\"content\\\":\\\"======================================================================\\\"},{\\\"timestamp\\\":\\\"20200506T220554.268Z\\\",\\\"content\\\":\\\"Starting\\\"},{\\\"timestamp\\\":\\\"20200506T220554.268Z\\\",\\\"content\\\":\\\"======================================================================\\\"},{\\\"timestamp\\\":\\\"20200506T220554.331Z\\\",\\\"content\\\":\\\"Pulling image 100.97.40.227:5000/dom-mdl-5eb21e76ea278a583191d50b-v3:202056211514_zbq5bENw\\\"},{\\\"timestamp\\\":\\\"20200506T220554.331Z\\\",\\\"content\\\":\\\"======================================================================\\\"},{\\\"timestamp\\\":\\\"20200506T220554.331Z\\\",\\\"content\\\":\\\"Pulling\\\"},{\\\"timestamp\\\":\\\"20200506T220554.332Z\\\",\\\"content\\\":\\\"======================================================================\\\"},{\\\"timestamp\\\":\\\"20200506T220556.038Z\\\",\\\"content\\\":\\\"Image found, using 100.97.40.227:5000/dom-mdl-5eb21e76ea278a583191d50b-v3:202056211514_zbq5bENw\\\"},{\\\"timestamp\\\":\\\"20200506T220556.038Z\\\",\\\"content\\\":\\\"======================================================================\\\"},{\\\"timestamp\\\":\\\"20200506T220556.038Z\\\",\\\"content\\\":\\\"Tagging\\\"},{\\\"timestamp\\\":\\\"20200506T220556.038Z\\\",\\\"content\\\":\\\"======================================================================\\\"},{\\\"timestamp\\\":\\\"20200506T220556.072Z\\\",\\\"content\\\":\\\"Pushing image 946429944765.dkr.ecr.us-east-1.amazonaws.com/akshay-test:test-rail-model-v1\\\"},{\\\"timestamp\\\":\\\"20200506T220556.072Z\\\",\\\"content\\\":\\\"======================================================================\\\"},{\\\"timestamp\\\":\\\"20200506T220556.072Z\\\",\\\"content\\\":\\\"Pushing\\\"},{\\\"timestamp\\\":\\\"20200506T220556.072Z\\\",\\\"content\\\":\\\"======================================================================\\\"},{\\\"timestamp\\\":\\\"20200506T220602.955Z\\\",\\\"content\\\":\\\"======================================================================\\\"},{\\\"timestamp\\\":\\\"20200506T220602.955Z\\\",\\\"content\\\":\\\"Succeeded\\\"},{\\\"timestamp\\\":\\\"20200506T220602.955Z\\\",\\\"content\\\":\\\"======================================================================\\\"},{\\\"timestamp\\\":\\\"20200506T220602.981Z\\\",\\\"content\\\":\\\"SUCCESS: Successfully pulled and pushed image 100.97.40.227:5000/dom-mdl-5eb21e76ea278a583191d50b-v3:202056211514_zbq5bENw\\\"}]}\"}"
     ]
    }
   ],
   "source": [
    "!curl --location --request GET 'https://staging.domino.tech/v4/models/5eb334b0e42cd45369afee96/getExportLogs' \\\n",
    "--header 'Content-Type: application/json' \\\n",
    "--header 'X-Domino-Api-Key: 618338b3904f2b993d60d5660fe9537531821581944c8783f49547c54765896f' \\\n",
    "--data-raw ''"
   ]
  },
  {
   "cell_type": "markdown",
   "metadata": {},
   "source": [
    "### Export Model for Sagemaker"
   ]
  },
  {
   "cell_type": "code",
   "execution_count": 9,
   "metadata": {},
   "outputs": [
    {
     "name": "stdout",
     "output_type": "stream",
     "text": [
      "{\"modelId\":\"5eb21e76ea278a583191d50b\",\"modelVersionId\":\"5eb328e2e42cd45369afee7f\",\"exportId\":\"5eb335e3e42cd45369afee98\",\"status\":\"preparing\"}"
     ]
    }
   ],
   "source": [
    "!curl --location --request POST 'https://staging.domino.tech/v4/models/5eb21e76ea278a583191d50b/5eb328e2e42cd45369afee7f/exportImageForSagemaker' \\\n",
    "--header 'Content-Type: application/json' \\\n",
    "--header 'X-Domino-Api-Key: 618338b3904f2b993d60d5660fe9537531821581944c8783f49547c54765896f' \\\n",
    "--data-raw '{ \"registryUrl\": \"946429944765.dkr.ecr.us-east-1.amazonaws.com\", \\\n",
    "  \"repository\": \"akshay-test\", \\\n",
    "  \"tag\": \"sagemaker-export\", \\\n",
    "  \"username\": \"AWS\", \\\n",
    "  \"password\": \"eyJwYXlsb2FkIjoiMWY4UFdmTHlEL0N3dUUwSzVBMGdUL0VBbUZSc2h5QTlGYVh0WC92cjFIbHhSQXBneFBMeVBTamkzOWJhcHMxS3UrODVLcXFwQjNZdmtHU2tMR0J4WEF6Rk9uNVNkUHNIV1YxK29KdFhXU1hjZnBWSjNNYUNVN2xZeDlySFE4UWJRRTJ3bDI2b2MrdlhhWG1kdzBRbWNkbmIydHVLUUZNNVNhOXdyaWw4SzhKWjFvL1gycWErQVNnb3Q1WDBhTHpWSUJybndCbXR4RXFQc0xNcmtWcW9jMlFaM2YwbkppMDhtSHZ0K0tIUXMySWpJMlliQmNDcVVGYklFUHpJN3J4SHAyelR5S3p6MmczUkZIMkF4N016UEdPcEZRb2hVc3A3NytaYnhTN0o3Q2ZKdDVqMENTRklaclJHbUpBa2ZxOSswQ3RaVDMybDB5TEZWTVJDc3NtY1dXdFJQem52SGZUb1gyLzh5bmdYdGptVXBoUW0vK3UrQmxabGprVkdWNmc0dWNqVzZxQ3hZUzhxb0p0dlhtOVpUQTV3MXlzeVZDRWgrdEcvU1pTYWpLSGVlS2d4WUUvaG10SEllaGxwM0phbmhGTFVkOEIvRlNRMW1YNDV0bjdBc21yK1lld0ZncThrMVloMW1nTUdzQkpaTkczS0RxckZwWWZYeVFoZVpTbXVab0xudDJYODBLdHRwYmdFdGRLUHFpUFN5L0VoMVRpdDFyem5hZWprSExVNDBWTVhGOU9SUGtHU3JnKzlWQmFxNTA0cWswV1F1Z2pTRDNaMUFrcmFvRGZLQ09acFJjelRKYjBIT0FUT1R4VWVuR240RFFUM2w0dGI5d2pXcjBZVFpqRSs5MUhiU3pDUWczai85TU1tRWpmQWswa1lrcFppSEFjWFVHRUJjV3BGWU5UUmJLOUl5QkFuMWwweVgvVkdRTU9leFVUQThGdFRVK1lsWUpkL0VFWnQ2ejRKMTdkeE4wS1VEV21IQVRJcFBFcktwZWlTbVRFTm1JOWZUQzI5bStVRFZHLzZiS3M0U0hFYmRYQUJLbjZWUTl6MWkvV3ZReDdJWTJuYkFhZmpJZVVhaWF0bktMNE9yNHloV09hT3JlQ0kxR1pqK1Jqd2Zzb2VrUzZuT3QweUxaTSs2TzMzZzJiKzZ4a21WdVZ1RSs0Wm5mSkw3eHc0dnRRSHgvUjNoaC9MQ0dQaURiT252ZkJxRWZUZlpyVWJST2wvYWxHUDF1dU1EQjFsS3BsenRPclo5TXhoZklzSVRWUHRnMXVzL0M1U3Zzb0FSMzZ1QTRCeGhPU0hKRjN4RmcyV3FwWHlpUk8wNGRNQm5yMmY4cDdaZmRMVU8veFcvZ05ZWnl1elhYMHhCVE05RkFMWEZYVmFEbkhHQk5IQVpVYzg2MFNtVzlxcXJSeUNFTGptc0IzWWpXU1BOMWgzWUNpVVhETmtETUl4Vm4wK3IzZlE5dz09IiwiZGF0YWtleSI6IkFRRUJBSGh3bTBZYUlTSmVSdEptNW4xRzZ1cWVla1h1b1hYUGU1VUZjZTlScTgvMTR3QUFBSDR3ZkFZSktvWklodmNOQVFjR29HOHdiUUlCQURCb0Jna3Foa2lHOXcwQkJ3RXdIZ1lKWUlaSUFXVURCQUV1TUJFRURPZ2F6VHFMNzBxNWQ4TXhIQUlCRUlBN3FZTjcrenNOdTh1ZkdibyttQ2Jrd3YrVTlMUjdqM2RpaUFkYks3L3N4cWVMbTgxdERET2RqSnZ6U0w0VGlUb2RHOXQ5NDd6eGtMdWF2UW89IiwidmVyc2lvbiI6IjIiLCJ0eXBlIjoiREFUQV9LRVkiLCJleHBpcmF0aW9uIjoxNTg4ODQ0ODczfQ==\" }'"
   ]
  },
  {
   "cell_type": "code",
   "execution_count": 12,
   "metadata": {},
   "outputs": [
    {
     "name": "stdout",
     "output_type": "stream",
     "text": [
      "{\"modelId\":\"5eb21e76ea278a583191d50b\",\"modelVersionId\":\"5eb328e2e42cd45369afee7f\",\"exportId\":\"5eb335e3e42cd45369afee98\",\"status\":\"complete\"}"
     ]
    }
   ],
   "source": [
    "!curl --location --request GET 'https://staging.domino.tech/v4/models/5eb335e3e42cd45369afee98/getExportImageStatus' \\\n",
    "--header 'Content-Type: application/json' \\\n",
    "--header 'X-Domino-Api-Key: 618338b3904f2b993d60d5660fe9537531821581944c8783f49547c54765896f' \\\n",
    "--data-raw ''"
   ]
  },
  {
   "cell_type": "code",
   "execution_count": 11,
   "metadata": {},
   "outputs": [
    {
     "name": "stdout",
     "output_type": "stream",
     "text": [
      "{\"modelId\":\"5eb21e76ea278a583191d50b\",\"modelVersionId\":\"5eb328e2e42cd45369afee7f\",\"exportId\":\"5eb335e3e42cd45369afee98\",\"status\":\"preparing\",\"logs\":\"{\\\"lines\\\":[{\\\"timestamp\\\":\\\"20200506T221044.043Z\\\",\\\"content\\\":\\\"Pulling and pushing Docker image 100.97.40.227:5000/dom-mdl-5eb21e76ea278a583191d50b-v3:202056211514_zbq5bENw\\\"},{\\\"timestamp\\\":\\\"20200506T221044.043Z\\\",\\\"content\\\":\\\"\\\"},{\\\"timestamp\\\":\\\"20200506T221045.548Z\\\",\\\"content\\\":\\\"Building Sagemaker Image...\\\"},{\\\"timestamp\\\":\\\"20200506T221045.610Z\\\",\\\"content\\\":\\\"======================================================================\\\"},{\\\"timestamp\\\":\\\"20200506T221045.610Z\\\",\\\"content\\\":\\\"Starting\\\"},{\\\"timestamp\\\":\\\"20200506T221045.610Z\\\",\\\"content\\\":\\\"======================================================================\\\"},{\\\"timestamp\\\":\\\"20200506T221045.905Z\\\",\\\"content\\\":\\\"Preparing project and dependencies\\\"},{\\\"timestamp\\\":\\\"20200506T221106.401Z\\\",\\\"content\\\":\\\"Linking project to /mnt/akshay_ambekar/TestAssetsDashboard\\\"},{\\\"timestamp\\\":\\\"20200506T221106.402Z\\\",\\\"content\\\":\\\"Linking repository to /repos/default\\\"},{\\\"timestamp\\\":\\\"20200506T221106.403Z\\\",\\\"content\\\":\\\"Project and dependencies linked\\\"},{\\\"timestamp\\\":\\\"20200506T221108.790Z\\\",\\\"content\\\":\\\"Step 1/10 : FROM 100.97.40.227:5000/domino-5d7abf2715f3690007f23081:18\\\"},{\\\"timestamp\\\":\\\"20200506T221109.268Z\\\",\\\"content\\\":\\\"18: Pulling from domino-5d7abf2715f3690007f23081\\\"},{\\\"timestamp\\\":\\\"20200506T221109.269Z\\\",\\\"content\\\":\\\"Digest: sha256:8513ef4fe0cec0bffce579fb7dead8b63aa73cc0d1b1865cd8ff13802eaf27a5\\\"},{\\\"timestamp\\\":\\\"20200506T221109.277Z\\\",\\\"content\\\":\\\"Status: Downloaded newer image for 100.97.40.227:5000/domino-5d7abf2715f3690007f23081:18\\\"},{\\\"timestamp\\\":\\\"20200506T221109.278Z\\\",\\\"content\\\":\\\" ---> 77268081901f\\\"},{\\\"timestamp\\\":\\\"20200506T221109.278Z\\\",\\\"content\\\":\\\"Step 2/10 : ADD files /\\\"},{\\\"timestamp\\\":\\\"20200506T221109.550Z\\\",\\\"content\\\":\\\" ---> 9abfe0333f37\\\"},{\\\"timestamp\\\":\\\"20200506T221109.551Z\\\",\\\"content\\\":\\\"Step 3/10 : WORKDIR /mnt/akshay_ambekar/TestAssetsDashboard\\\"},{\\\"timestamp\\\":\\\"20200506T221109.600Z\\\",\\\"content\\\":\\\" ---> Running in 9b3af3d7234f\\\"},{\\\"timestamp\\\":\\\"20200506T221109.739Z\\\",\\\"content\\\":\\\"Removing intermediate container 9b3af3d7234f\\\"},{\\\"timestamp\\\":\\\"20200506T221109.739Z\\\",\\\"content\\\":\\\" ---> e5e773610036\\\"},{\\\"timestamp\\\":\\\"20200506T221109.740Z\\\",\\\"content\\\":\\\"Step 4/10 : ENV DOMINO_WORKING_DIR=/mnt/akshay_ambekar/TestAssetsDashboard\\\"},{\\\"timestamp\\\":\\\"20200506T221109.788Z\\\",\\\"content\\\":\\\" ---> Running in bacc1319fbf5\\\"},{\\\"timestamp\\\":\\\"20200506T221109.915Z\\\",\\\"content\\\":\\\"Removing intermediate container bacc1319fbf5\\\"},{\\\"timestamp\\\":\\\"20200506T221109.915Z\\\",\\\"content\\\":\\\" ---> dc150b5c7870\\\"},{\\\"timestamp\\\":\\\"20200506T221109.915Z\\\",\\\"content\\\":\\\"Step 5/10 : ENV DOMINO_USER_HOST=http://frontend-nucleus.aws-staging-domino:80\\\"},{\\\"timestamp\\\":\\\"20200506T221109.968Z\\\",\\\"content\\\":\\\" ---> Running in d0eb92737066\\\"},{\\\"timestamp\\\":\\\"20200506T221110.095Z\\\",\\\"content\\\":\\\"Removing intermediate container d0eb92737066\\\"},{\\\"timestamp\\\":\\\"20200506T221110.095Z\\\",\\\"content\\\":\\\" ---> aa8d11e96f0e\\\"},{\\\"timestamp\\\":\\\"20200506T221110.096Z\\\",\\\"content\\\":\\\"Step 6/10 : ENV DOMINO_PROJECT_OWNER=akshay_ambekar\\\"},{\\\"timestamp\\\":\\\"20200506T221110.147Z\\\",\\\"content\\\":\\\" ---> Running in 47efde9e1618\\\"},{\\\"timestamp\\\":\\\"20200506T221110.275Z\\\",\\\"content\\\":\\\"Removing intermediate container 47efde9e1618\\\"},{\\\"timestamp\\\":\\\"20200506T221110.275Z\\\",\\\"content\\\":\\\" ---> abe990165314\\\"},{\\\"timestamp\\\":\\\"20200506T221110.275Z\\\",\\\"content\\\":\\\"Step 7/10 : ENV DOMINO_PROJECT_NAME=TestAssetsDashboard\\\"},{\\\"timestamp\\\":\\\"20200506T221110.336Z\\\",\\\"content\\\":\\\" ---> Running in a13f6d91bc2b\\\"},{\\\"timestamp\\\":\\\"20200506T221110.455Z\\\",\\\"content\\\":\\\"Removing intermediate container a13f6d91bc2b\\\"},{\\\"timestamp\\\":\\\"20200506T221110.455Z\\\",\\\"content\\\":\\\" ---> 3bf38d5544cc\\\"},{\\\"timestamp\\\":\\\"20200506T221110.456Z\\\",\\\"content\\\":\\\"Step 8/10 : RUN /domino/model-manager/validate-env\\\"},{\\\"timestamp\\\":\\\"20200506T221110.499Z\\\",\\\"content\\\":\\\" ---> Running in 477565a6b06b\\\"},{\\\"timestamp\\\":\\\"20200506T221111.929Z\\\",\\\"content\\\":\\\"Collecting requests==2.19.0\\\"},{\\\"timestamp\\\":\\\"20200506T221112.099Z\\\",\\\"content\\\":\\\"  Downloading https://files.pythonhosted.org/packages/cc/15/e1c318dbc20032ffbe5628837ca0de2d5b116ffd1b849c699634010f6a5d/requests-2.19.0-py2.py3-none-any.whl (91kB)\\\"},{\\\"timestamp\\\":\\\"20200506T221112.136Z\\\",\\\"content\\\":\\\"Requirement already satisfied: certifi>=2017.4.17 in /usr/local/anaconda/lib/python3.6/site-packages (from requests==2.19.0) (2019.9.11)\\\"},{\\\"timestamp\\\":\\\"20200506T221112.137Z\\\",\\\"content\\\":\\\"Requirement already satisfied: chardet<3.1.0,>=3.0.2 in /usr/local/anaconda/lib/python3.6/site-packages (from requests==2.19.0) (3.0.4)\\\"},{\\\"timestamp\\\":\\\"20200506T221112.139Z\\\",\\\"content\\\":\\\"Collecting idna<2.8,>=2.5 (from requests==2.19.0)\\\"},{\\\"timestamp\\\":\\\"20200506T221112.166Z\\\",\\\"content\\\":\\\"  Downloading https://files.pythonhosted.org/packages/4b/2a/0276479a4b3caeb8a8c1af2f8e4355746a97fab05a372e4a2c6a6b876165/idna-2.7-py2.py3-none-any.whl (58kB)\\\"},{\\\"timestamp\\\":\\\"20200506T221112.178Z\\\",\\\"content\\\":\\\"Collecting urllib3<1.24,>=1.21.1 (from requests==2.19.0)\\\"},{\\\"timestamp\\\":\\\"20200506T221112.224Z\\\",\\\"content\\\":\\\"  Downloading https://files.pythonhosted.org/packages/bd/c9/6fdd990019071a4a32a5e7cb78a1d92c53851ef4f56f62a3486e6a7d8ffb/urllib3-1.23-py2.py3-none-any.whl (133kB)\\\"},{\\\"timestamp\\\":\\\"20200506T221112.979Z\\\",\\\"content\\\":\\\"Installing collected packages: idna, urllib3, requests\\\"},{\\\"timestamp\\\":\\\"20200506T221112.979Z\\\",\\\"content\\\":\\\"  Found existing installation: idna 2.8\\\"},{\\\"timestamp\\\":\\\"20200506T221112.984Z\\\",\\\"content\\\":\\\"    Uninstalling idna-2.8:\\\"},{\\\"timestamp\\\":\\\"20200506T221113.004Z\\\",\\\"content\\\":\\\"      Successfully uninstalled idna-2.8\\\"},{\\\"timestamp\\\":\\\"20200506T221113.070Z\\\",\\\"content\\\":\\\"  Found existing installation: urllib3 1.25.3\\\"},{\\\"timestamp\\\":\\\"20200506T221113.090Z\\\",\\\"content\\\":\\\"    Uninstalling urllib3-1.25.3:\\\"},{\\\"timestamp\\\":\\\"20200506T221113.224Z\\\",\\\"content\\\":\\\"      Successfully uninstalled urllib3-1.25.3\\\"},{\\\"timestamp\\\":\\\"20200506T221113.279Z\\\",\\\"content\\\":\\\"  Found existing installation: requests 2.22.0\\\"},{\\\"timestamp\\\":\\\"20200506T221113.287Z\\\",\\\"content\\\":\\\"    Uninstalling requests-2.22.0:\\\"},{\\\"timestamp\\\":\\\"20200506T221113.315Z\\\",\\\"content\\\":\\\"      Successfully uninstalled requests-2.22.0\\\"},{\\\"timestamp\\\":\\\"20200506T221113.456Z\\\",\\\"content\\\":\\\"Successfully installed idna-2.7 requests-2.19.0 urllib3-1.23\\\"},{\\\"timestamp\\\":\\\"20200506T221113.658Z\\\",\\\"content\\\":\\\"\\\\u001B[91mWARNING: You are using pip version 19.2.3, however version 20.1 is available.\\\"},{\\\"timestamp\\\":\\\"20200506T221113.658Z\\\",\\\"content\\\":\\\"You should consider upgrading via the 'pip install --upgrade pip' command.\\\"},{\\\"timestamp\\\":\\\"20200506T221113.658Z\\\",\\\"content\\\":\\\"\\\\u001B[0m\\\"},{\\\"timestamp\\\":\\\"20200506T221113.711Z\\\",\\\"content\\\":\\\"wget is /usr/bin/wget\\\"}]}\"}"
     ]
    }
   ],
   "source": [
    "!curl --location --request GET 'https://staging.domino.tech/v4/models/5eb335e3e42cd45369afee98/getExportLogs' \\\n",
    "--header 'Content-Type: application/json' \\\n",
    "--header 'X-Domino-Api-Key: 618338b3904f2b993d60d5660fe9537531821581944c8783f49547c54765896f' \\\n",
    "--data-raw ''"
   ]
  },
  {
   "cell_type": "code",
   "execution_count": null,
   "metadata": {},
   "outputs": [],
   "source": []
  }
 ],
 "metadata": {
  "kernelspec": {
   "display_name": "Python 3",
   "language": "python",
   "name": "python3"
  },
  "language_info": {
   "codemirror_mode": {
    "name": "ipython",
    "version": 3
   },
   "file_extension": ".py",
   "mimetype": "text/x-python",
   "name": "python",
   "nbconvert_exporter": "python",
   "pygments_lexer": "ipython3",
   "version": "3.6.10"
  }
 },
 "nbformat": 4,
 "nbformat_minor": 2
}
